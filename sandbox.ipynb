{
 "cells": [
  {
   "cell_type": "code",
   "execution_count": 2,
   "id": "initial_id",
   "metadata": {
    "collapsed": true,
    "ExecuteTime": {
     "end_time": "2024-05-18T20:17:19.290707Z",
     "start_time": "2024-05-18T20:17:17.666966Z"
    }
   },
   "outputs": [],
   "source": [
    "## imports\n",
    "import pandas as pd"
   ]
  },
  {
   "cell_type": "code",
   "outputs": [],
   "source": [
    "## Historical Wildfires\n",
    "historical_wildfires_url = \"https://open.alberta.ca/dataset/a221e7a0-4f46-4be7-9c5a-e29de9a3447e/resource/80480824-0c50-456c-9723-f9d4fc136141/download/fp-historical-wildfire-data-2006-2021.xlsx\"\n",
    "\n",
    "# Read Excel file\n",
    "df = pd.read_excel(historical_wildfires_url)"
   ],
   "metadata": {
    "collapsed": false,
    "ExecuteTime": {
     "end_time": "2024-05-18T20:20:34.986305Z",
     "start_time": "2024-05-18T20:20:10.096920Z"
    }
   },
   "id": "f27ca97947eeff2d",
   "execution_count": 4
  },
  {
   "cell_type": "code",
   "outputs": [],
   "source": [
    "# Test Historical Wildfire Data\n",
    "print(df.head()['fire_start_date'])"
   ],
   "metadata": {
    "collapsed": false
   },
   "id": "722bf6cedd523be1"
  },
  {
   "cell_type": "code",
   "outputs": [],
   "source": [
    "## Active Wildfires\n",
    "active_wildfires_url = \"https://cwfis.cfs.nrcan.gc.ca/downloads/activefires/activefires.csv\"\n",
    "\n",
    "# Read CSV File\n",
    "df = pd.read_csv(active_wildfires_url)"
   ],
   "metadata": {
    "collapsed": false,
    "ExecuteTime": {
     "end_time": "2024-05-18T20:20:49.980039Z",
     "start_time": "2024-05-18T20:20:49.800221Z"
    }
   },
   "id": "d8d0b59da3d344a2",
   "execution_count": 5
  },
  {
   "cell_type": "code",
   "outputs": [
    {
     "data": {
      "text/plain": "  agency       firename      lat      lon             startdate   hectares  \\\n0     ab   SWF-004-2024  55.2097 -116.651   2024-02-23 20:06:00     214.00   \n1     ab   LWF-023-2024  55.9238 -110.692   2024-04-06 16:00:00       0.02   \n2     ab   PWF-019-2024  55.6995 -116.785   2024-04-09 22:50:00       5.40   \n3     ab   PWF-022-2024  56.6758 -118.075   2024-04-13 23:58:00      25.80   \n4     pc        2024WB1  59.4866 -112.137   2024-03-25 18:36:50       1.00   \n\n   stage_of_control  timezone  response_type  \n0                UC       MST            FUL  \n1                UC       MDT            FUL  \n2                UC       MDT            FUL  \n3                UC       MDT            FUL  \n4                OC       MDT            MON  ",
      "text/html": "<div>\n<style scoped>\n    .dataframe tbody tr th:only-of-type {\n        vertical-align: middle;\n    }\n\n    .dataframe tbody tr th {\n        vertical-align: top;\n    }\n\n    .dataframe thead th {\n        text-align: right;\n    }\n</style>\n<table border=\"1\" class=\"dataframe\">\n  <thead>\n    <tr style=\"text-align: right;\">\n      <th></th>\n      <th>agency</th>\n      <th>firename</th>\n      <th>lat</th>\n      <th>lon</th>\n      <th>startdate</th>\n      <th>hectares</th>\n      <th>stage_of_control</th>\n      <th>timezone</th>\n      <th>response_type</th>\n    </tr>\n  </thead>\n  <tbody>\n    <tr>\n      <th>0</th>\n      <td>ab</td>\n      <td>SWF-004-2024</td>\n      <td>55.2097</td>\n      <td>-116.651</td>\n      <td>2024-02-23 20:06:00</td>\n      <td>214.00</td>\n      <td>UC</td>\n      <td>MST</td>\n      <td>FUL</td>\n    </tr>\n    <tr>\n      <th>1</th>\n      <td>ab</td>\n      <td>LWF-023-2024</td>\n      <td>55.9238</td>\n      <td>-110.692</td>\n      <td>2024-04-06 16:00:00</td>\n      <td>0.02</td>\n      <td>UC</td>\n      <td>MDT</td>\n      <td>FUL</td>\n    </tr>\n    <tr>\n      <th>2</th>\n      <td>ab</td>\n      <td>PWF-019-2024</td>\n      <td>55.6995</td>\n      <td>-116.785</td>\n      <td>2024-04-09 22:50:00</td>\n      <td>5.40</td>\n      <td>UC</td>\n      <td>MDT</td>\n      <td>FUL</td>\n    </tr>\n    <tr>\n      <th>3</th>\n      <td>ab</td>\n      <td>PWF-022-2024</td>\n      <td>56.6758</td>\n      <td>-118.075</td>\n      <td>2024-04-13 23:58:00</td>\n      <td>25.80</td>\n      <td>UC</td>\n      <td>MDT</td>\n      <td>FUL</td>\n    </tr>\n    <tr>\n      <th>4</th>\n      <td>pc</td>\n      <td>2024WB1</td>\n      <td>59.4866</td>\n      <td>-112.137</td>\n      <td>2024-03-25 18:36:50</td>\n      <td>1.00</td>\n      <td>OC</td>\n      <td>MDT</td>\n      <td>MON</td>\n    </tr>\n  </tbody>\n</table>\n</div>"
     },
     "execution_count": 6,
     "metadata": {},
     "output_type": "execute_result"
    }
   ],
   "source": [
    "# Test Active Wildfire Data\n",
    "df.head()"
   ],
   "metadata": {
    "collapsed": false,
    "ExecuteTime": {
     "end_time": "2024-05-18T20:20:54.569804Z",
     "start_time": "2024-05-18T20:20:54.470518Z"
    }
   },
   "id": "7d1a36166d8caa85",
   "execution_count": 6
  }
 ],
 "metadata": {
  "kernelspec": {
   "display_name": "Python 3",
   "language": "python",
   "name": "python3"
  },
  "language_info": {
   "codemirror_mode": {
    "name": "ipython",
    "version": 2
   },
   "file_extension": ".py",
   "mimetype": "text/x-python",
   "name": "python",
   "nbconvert_exporter": "python",
   "pygments_lexer": "ipython2",
   "version": "2.7.6"
  }
 },
 "nbformat": 4,
 "nbformat_minor": 5
}
